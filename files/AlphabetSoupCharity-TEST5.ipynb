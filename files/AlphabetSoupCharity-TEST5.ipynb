{
 "cells": [
  {
   "cell_type": "markdown",
   "metadata": {},
   "source": [
    "## Preprocessing"
   ]
  },
  {
   "cell_type": "code",
   "execution_count": 1,
   "metadata": {
    "ExecuteTime": {
     "end_time": "2023-05-21T02:01:17.179126Z",
     "start_time": "2023-05-21T02:01:12.382753Z"
    }
   },
   "outputs": [
    {
     "data": {
      "text/html": [
       "<div>\n",
       "<style scoped>\n",
       "    .dataframe tbody tr th:only-of-type {\n",
       "        vertical-align: middle;\n",
       "    }\n",
       "\n",
       "    .dataframe tbody tr th {\n",
       "        vertical-align: top;\n",
       "    }\n",
       "\n",
       "    .dataframe thead th {\n",
       "        text-align: right;\n",
       "    }\n",
       "</style>\n",
       "<table border=\"1\" class=\"dataframe\">\n",
       "  <thead>\n",
       "    <tr style=\"text-align: right;\">\n",
       "      <th></th>\n",
       "      <th>EIN</th>\n",
       "      <th>NAME</th>\n",
       "      <th>APPLICATION_TYPE</th>\n",
       "      <th>AFFILIATION</th>\n",
       "      <th>CLASSIFICATION</th>\n",
       "      <th>USE_CASE</th>\n",
       "      <th>ORGANIZATION</th>\n",
       "      <th>STATUS</th>\n",
       "      <th>INCOME_AMT</th>\n",
       "      <th>SPECIAL_CONSIDERATIONS</th>\n",
       "      <th>ASK_AMT</th>\n",
       "      <th>IS_SUCCESSFUL</th>\n",
       "    </tr>\n",
       "  </thead>\n",
       "  <tbody>\n",
       "    <tr>\n",
       "      <th>0</th>\n",
       "      <td>10520599</td>\n",
       "      <td>BLUE KNIGHTS MOTORCYCLE CLUB</td>\n",
       "      <td>T10</td>\n",
       "      <td>Independent</td>\n",
       "      <td>C1000</td>\n",
       "      <td>ProductDev</td>\n",
       "      <td>Association</td>\n",
       "      <td>1</td>\n",
       "      <td>0</td>\n",
       "      <td>N</td>\n",
       "      <td>5000</td>\n",
       "      <td>1</td>\n",
       "    </tr>\n",
       "    <tr>\n",
       "      <th>1</th>\n",
       "      <td>10531628</td>\n",
       "      <td>AMERICAN CHESAPEAKE CLUB CHARITABLE TR</td>\n",
       "      <td>T3</td>\n",
       "      <td>Independent</td>\n",
       "      <td>C2000</td>\n",
       "      <td>Preservation</td>\n",
       "      <td>Co-operative</td>\n",
       "      <td>1</td>\n",
       "      <td>1-9999</td>\n",
       "      <td>N</td>\n",
       "      <td>108590</td>\n",
       "      <td>1</td>\n",
       "    </tr>\n",
       "    <tr>\n",
       "      <th>2</th>\n",
       "      <td>10547893</td>\n",
       "      <td>ST CLOUD PROFESSIONAL FIREFIGHTERS</td>\n",
       "      <td>T5</td>\n",
       "      <td>CompanySponsored</td>\n",
       "      <td>C3000</td>\n",
       "      <td>ProductDev</td>\n",
       "      <td>Association</td>\n",
       "      <td>1</td>\n",
       "      <td>0</td>\n",
       "      <td>N</td>\n",
       "      <td>5000</td>\n",
       "      <td>0</td>\n",
       "    </tr>\n",
       "    <tr>\n",
       "      <th>3</th>\n",
       "      <td>10553066</td>\n",
       "      <td>SOUTHSIDE ATHLETIC ASSOCIATION</td>\n",
       "      <td>T3</td>\n",
       "      <td>CompanySponsored</td>\n",
       "      <td>C2000</td>\n",
       "      <td>Preservation</td>\n",
       "      <td>Trust</td>\n",
       "      <td>1</td>\n",
       "      <td>10000-24999</td>\n",
       "      <td>N</td>\n",
       "      <td>6692</td>\n",
       "      <td>1</td>\n",
       "    </tr>\n",
       "    <tr>\n",
       "      <th>4</th>\n",
       "      <td>10556103</td>\n",
       "      <td>GENETIC RESEARCH INSTITUTE OF THE DESERT</td>\n",
       "      <td>T3</td>\n",
       "      <td>Independent</td>\n",
       "      <td>C1000</td>\n",
       "      <td>Heathcare</td>\n",
       "      <td>Trust</td>\n",
       "      <td>1</td>\n",
       "      <td>100000-499999</td>\n",
       "      <td>N</td>\n",
       "      <td>142590</td>\n",
       "      <td>1</td>\n",
       "    </tr>\n",
       "  </tbody>\n",
       "</table>\n",
       "</div>"
      ],
      "text/plain": [
       "        EIN                                      NAME APPLICATION_TYPE  \\\n",
       "0  10520599              BLUE KNIGHTS MOTORCYCLE CLUB              T10   \n",
       "1  10531628    AMERICAN CHESAPEAKE CLUB CHARITABLE TR               T3   \n",
       "2  10547893        ST CLOUD PROFESSIONAL FIREFIGHTERS               T5   \n",
       "3  10553066            SOUTHSIDE ATHLETIC ASSOCIATION               T3   \n",
       "4  10556103  GENETIC RESEARCH INSTITUTE OF THE DESERT               T3   \n",
       "\n",
       "        AFFILIATION CLASSIFICATION      USE_CASE  ORGANIZATION  STATUS  \\\n",
       "0       Independent          C1000    ProductDev   Association       1   \n",
       "1       Independent          C2000  Preservation  Co-operative       1   \n",
       "2  CompanySponsored          C3000    ProductDev   Association       1   \n",
       "3  CompanySponsored          C2000  Preservation         Trust       1   \n",
       "4       Independent          C1000     Heathcare         Trust       1   \n",
       "\n",
       "      INCOME_AMT SPECIAL_CONSIDERATIONS  ASK_AMT  IS_SUCCESSFUL  \n",
       "0              0                      N     5000              1  \n",
       "1         1-9999                      N   108590              1  \n",
       "2              0                      N     5000              0  \n",
       "3    10000-24999                      N     6692              1  \n",
       "4  100000-499999                      N   142590              1  "
      ]
     },
     "execution_count": 1,
     "metadata": {},
     "output_type": "execute_result"
    }
   ],
   "source": [
    "# Import our dependencies\n",
    "from sklearn.model_selection import train_test_split\n",
    "from sklearn.preprocessing import StandardScaler\n",
    "import pandas as pd\n",
    "import tensorflow as tf\n",
    "\n",
    "#  Import and read the charity_data.csv.\n",
    "import pandas as pd \n",
    "application_df = pd.read_csv(\"https://static.bc-edx.com/data/dl-1-2/m21/lms/starter/charity_data.csv\")\n",
    "application_df.head()"
   ]
  },
  {
   "cell_type": "code",
   "execution_count": 2,
   "metadata": {
    "ExecuteTime": {
     "end_time": "2023-05-21T02:01:18.481834Z",
     "start_time": "2023-05-21T02:01:18.466708Z"
    }
   },
   "outputs": [
    {
     "data": {
      "text/html": [
       "<div>\n",
       "<style scoped>\n",
       "    .dataframe tbody tr th:only-of-type {\n",
       "        vertical-align: middle;\n",
       "    }\n",
       "\n",
       "    .dataframe tbody tr th {\n",
       "        vertical-align: top;\n",
       "    }\n",
       "\n",
       "    .dataframe thead th {\n",
       "        text-align: right;\n",
       "    }\n",
       "</style>\n",
       "<table border=\"1\" class=\"dataframe\">\n",
       "  <thead>\n",
       "    <tr style=\"text-align: right;\">\n",
       "      <th></th>\n",
       "      <th>ASK_AMT</th>\n",
       "      <th>IS_SUCCESSFUL</th>\n",
       "    </tr>\n",
       "  </thead>\n",
       "  <tbody>\n",
       "    <tr>\n",
       "      <th>0</th>\n",
       "      <td>5000</td>\n",
       "      <td>1</td>\n",
       "    </tr>\n",
       "    <tr>\n",
       "      <th>1</th>\n",
       "      <td>108590</td>\n",
       "      <td>1</td>\n",
       "    </tr>\n",
       "    <tr>\n",
       "      <th>2</th>\n",
       "      <td>5000</td>\n",
       "      <td>0</td>\n",
       "    </tr>\n",
       "    <tr>\n",
       "      <th>3</th>\n",
       "      <td>6692</td>\n",
       "      <td>1</td>\n",
       "    </tr>\n",
       "    <tr>\n",
       "      <th>4</th>\n",
       "      <td>142590</td>\n",
       "      <td>1</td>\n",
       "    </tr>\n",
       "    <tr>\n",
       "      <th>...</th>\n",
       "      <td>...</td>\n",
       "      <td>...</td>\n",
       "    </tr>\n",
       "    <tr>\n",
       "      <th>34294</th>\n",
       "      <td>5000</td>\n",
       "      <td>0</td>\n",
       "    </tr>\n",
       "    <tr>\n",
       "      <th>34295</th>\n",
       "      <td>5000</td>\n",
       "      <td>0</td>\n",
       "    </tr>\n",
       "    <tr>\n",
       "      <th>34296</th>\n",
       "      <td>5000</td>\n",
       "      <td>0</td>\n",
       "    </tr>\n",
       "    <tr>\n",
       "      <th>34297</th>\n",
       "      <td>5000</td>\n",
       "      <td>1</td>\n",
       "    </tr>\n",
       "    <tr>\n",
       "      <th>34298</th>\n",
       "      <td>36500179</td>\n",
       "      <td>0</td>\n",
       "    </tr>\n",
       "  </tbody>\n",
       "</table>\n",
       "<p>34299 rows × 2 columns</p>\n",
       "</div>"
      ],
      "text/plain": [
       "        ASK_AMT  IS_SUCCESSFUL\n",
       "0          5000              1\n",
       "1        108590              1\n",
       "2          5000              0\n",
       "3          6692              1\n",
       "4        142590              1\n",
       "...         ...            ...\n",
       "34294      5000              0\n",
       "34295      5000              0\n",
       "34296      5000              0\n",
       "34297      5000              1\n",
       "34298  36500179              0\n",
       "\n",
       "[34299 rows x 2 columns]"
      ]
     },
     "execution_count": 2,
     "metadata": {},
     "output_type": "execute_result"
    }
   ],
   "source": [
    "# Drop the non-beneficial ID columns, 'EIN' and 'NAME'.\n",
    "application_df.drop(columns=['EIN', 'NAME', 'APPLICATION_TYPE', 'AFFILIATION', 'CLASSIFICATION', 'USE_CASE', 'ORGANIZATION', 'STATUS', 'SPECIAL_CONSIDERATIONS', 'INCOME_AMT'], inplace=True)\n",
    "application_df\n"
   ]
  },
  {
   "cell_type": "code",
   "execution_count": 3,
   "metadata": {
    "ExecuteTime": {
     "end_time": "2023-05-21T02:01:22.692359Z",
     "start_time": "2023-05-21T02:01:22.681516Z"
    }
   },
   "outputs": [
    {
     "name": "stderr",
     "output_type": "stream",
     "text": [
      "/var/folders/kh/xdg24th513g9kjvzg1lqylsc0000gn/T/ipykernel_83834/2823290356.py:3: FutureWarning: In a future version of pandas all arguments of DataFrame.drop except for the argument 'labels' will be keyword-only.\n",
      "  X = application_df.drop(['IS_SUCCESSFUL'],1).values\n"
     ]
    }
   ],
   "source": [
    "# Split our preprocessed data into our features and target arrays\n",
    "y = application_df['IS_SUCCESSFUL'].values\n",
    "X = application_df.drop(['IS_SUCCESSFUL'],1).values\n",
    "\n",
    "# Split the preprocessed data into a training and testing dataset\n",
    "X_train, X_test, y_train, y_test = train_test_split(X, y, random_state=42)\n",
    "\n"
   ]
  },
  {
   "cell_type": "code",
   "execution_count": 4,
   "metadata": {
    "ExecuteTime": {
     "end_time": "2023-05-21T02:01:26.922816Z",
     "start_time": "2023-05-21T02:01:26.915007Z"
    }
   },
   "outputs": [],
   "source": [
    "# Create a StandardScaler instances\n",
    "scaler = StandardScaler()\n",
    "\n",
    "# Fit the StandardScaler\n",
    "X_scaler = scaler.fit(X_train)\n",
    "\n",
    "# Scale the data\n",
    "X_train_scaled = X_scaler.transform(X_train)\n",
    "X_test_scaled = X_scaler.transform(X_test)"
   ]
  },
  {
   "cell_type": "markdown",
   "metadata": {},
   "source": [
    "## Compile, Train and Evaluate the Model"
   ]
  },
  {
   "cell_type": "code",
   "execution_count": 5,
   "metadata": {
    "ExecuteTime": {
     "end_time": "2023-05-21T02:01:31.842165Z",
     "start_time": "2023-05-21T02:01:30.997607Z"
    }
   },
   "outputs": [
    {
     "name": "stdout",
     "output_type": "stream",
     "text": [
      "Metal device set to: Apple M2\n",
      "Model: \"sequential\"\n",
      "_________________________________________________________________\n",
      " Layer (type)                Output Shape              Param #   \n",
      "=================================================================\n",
      " dense (Dense)               (None, 15)                30        \n",
      "                                                                 \n",
      " dense_1 (Dense)             (None, 10)                160       \n",
      "                                                                 \n",
      " dense_2 (Dense)             (None, 1)                 11        \n",
      "                                                                 \n",
      "=================================================================\n",
      "Total params: 201\n",
      "Trainable params: 201\n",
      "Non-trainable params: 0\n",
      "_________________________________________________________________\n"
     ]
    }
   ],
   "source": [
    "# Define the model - deep neural net, i.e., the number of input features and hidden nodes for each layer.\n",
    "number_input_features = len(X_train[0])\n",
    "hidden_nodes_layer1 =  15\n",
    "hidden_nodes_layer2 = 10\n",
    "\n",
    "nn = tf.keras.models.Sequential()\n",
    "\n",
    "# First hidden layer\n",
    "nn.add(\n",
    "    tf.keras.layers.Dense(units=hidden_nodes_layer1, input_dim=number_input_features, activation=\"relu\")\n",
    ")\n",
    "\n",
    "# Second hidden layer\n",
    "nn.add(tf.keras.layers.Dense(units=hidden_nodes_layer2, activation=\"relu\"))\n",
    "\n",
    "# Output layer\n",
    "nn.add(tf.keras.layers.Dense(units=1, activation=\"sigmoid\"))\n",
    "\n",
    "# Check the structure of the model\n",
    "nn.summary()"
   ]
  },
  {
   "cell_type": "code",
   "execution_count": 6,
   "metadata": {
    "ExecuteTime": {
     "end_time": "2023-05-21T02:01:35.706614Z",
     "start_time": "2023-05-21T02:01:35.681957Z"
    }
   },
   "outputs": [],
   "source": [
    "# Compile the model\n",
    "nn.compile(loss=\"binary_crossentropy\", optimizer=\"adam\", metrics=[\"accuracy\"])\n"
   ]
  },
  {
   "cell_type": "code",
   "execution_count": 7,
   "metadata": {
    "ExecuteTime": {
     "end_time": "2023-05-21T02:07:41.287338Z",
     "start_time": "2023-05-21T02:01:36.464905Z"
    }
   },
   "outputs": [
    {
     "name": "stdout",
     "output_type": "stream",
     "text": [
      "Epoch 1/100\n"
     ]
    },
    {
     "name": "stderr",
     "output_type": "stream",
     "text": [
      "2023-05-20 19:01:36.529931: W tensorflow/tsl/platform/profile_utils/cpu_utils.cc:128] Failed to get CPU frequency: 0 Hz\n"
     ]
    },
    {
     "name": "stdout",
     "output_type": "stream",
     "text": [
      "804/804 [==============================] - 6s 4ms/step - loss: 0.6911 - accuracy: 0.5324\n",
      "Epoch 2/100\n",
      "804/804 [==============================] - 3s 4ms/step - loss: 0.6911 - accuracy: 0.5335\n",
      "Epoch 3/100\n",
      "804/804 [==============================] - 3s 4ms/step - loss: 0.6913 - accuracy: 0.5329\n",
      "Epoch 4/100\n",
      "804/804 [==============================] - 4s 4ms/step - loss: 0.6909 - accuracy: 0.5335\n",
      "Epoch 5/100\n",
      "804/804 [==============================] - 4s 4ms/step - loss: 0.6911 - accuracy: 0.5339\n",
      "Epoch 6/100\n",
      "804/804 [==============================] - 3s 4ms/step - loss: 0.6910 - accuracy: 0.5332\n",
      "Epoch 7/100\n",
      "804/804 [==============================] - 3s 4ms/step - loss: 0.6909 - accuracy: 0.5338\n",
      "Epoch 8/100\n",
      "804/804 [==============================] - 3s 4ms/step - loss: 0.6910 - accuracy: 0.5339\n",
      "Epoch 9/100\n",
      "804/804 [==============================] - 3s 4ms/step - loss: 0.6908 - accuracy: 0.5340\n",
      "Epoch 10/100\n",
      "804/804 [==============================] - 3s 4ms/step - loss: 0.6911 - accuracy: 0.5342\n",
      "Epoch 11/100\n",
      "804/804 [==============================] - 3s 4ms/step - loss: 0.6908 - accuracy: 0.5346\n",
      "Epoch 12/100\n",
      "804/804 [==============================] - 4s 4ms/step - loss: 0.6909 - accuracy: 0.5344\n",
      "Epoch 13/100\n",
      "804/804 [==============================] - 4s 4ms/step - loss: 0.6909 - accuracy: 0.5343\n",
      "Epoch 14/100\n",
      "804/804 [==============================] - 3s 4ms/step - loss: 0.6907 - accuracy: 0.5344\n",
      "Epoch 15/100\n",
      "804/804 [==============================] - 3s 4ms/step - loss: 0.6909 - accuracy: 0.5348\n",
      "Epoch 16/100\n",
      "804/804 [==============================] - 3s 4ms/step - loss: 0.6908 - accuracy: 0.5349\n",
      "Epoch 17/100\n",
      "804/804 [==============================] - 3s 4ms/step - loss: 0.6908 - accuracy: 0.5348\n",
      "Epoch 18/100\n",
      "804/804 [==============================] - 3s 4ms/step - loss: 0.6907 - accuracy: 0.5351\n",
      "Epoch 19/100\n",
      "804/804 [==============================] - 4s 5ms/step - loss: 0.6909 - accuracy: 0.5349\n",
      "Epoch 20/100\n",
      "804/804 [==============================] - 4s 4ms/step - loss: 0.6906 - accuracy: 0.5356\n",
      "Epoch 21/100\n",
      "804/804 [==============================] - 4s 4ms/step - loss: 0.6908 - accuracy: 0.5353\n",
      "Epoch 22/100\n",
      "804/804 [==============================] - 4s 5ms/step - loss: 0.6908 - accuracy: 0.5348\n",
      "Epoch 23/100\n",
      "804/804 [==============================] - 4s 4ms/step - loss: 0.6906 - accuracy: 0.5355\n",
      "Epoch 24/100\n",
      "804/804 [==============================] - 4s 4ms/step - loss: 0.6906 - accuracy: 0.5354\n",
      "Epoch 25/100\n",
      "804/804 [==============================] - 4s 4ms/step - loss: 0.6908 - accuracy: 0.5353\n",
      "Epoch 26/100\n",
      "804/804 [==============================] - 4s 4ms/step - loss: 0.6905 - accuracy: 0.5356\n",
      "Epoch 27/100\n",
      "804/804 [==============================] - 4s 4ms/step - loss: 0.6906 - accuracy: 0.5358\n",
      "Epoch 28/100\n",
      "804/804 [==============================] - 4s 4ms/step - loss: 0.6907 - accuracy: 0.5360\n",
      "Epoch 29/100\n",
      "804/804 [==============================] - 4s 4ms/step - loss: 0.6906 - accuracy: 0.5356\n",
      "Epoch 30/100\n",
      "804/804 [==============================] - 4s 4ms/step - loss: 0.6906 - accuracy: 0.5362\n",
      "Epoch 31/100\n",
      "804/804 [==============================] - 4s 5ms/step - loss: 0.6907 - accuracy: 0.5358\n",
      "Epoch 32/100\n",
      "804/804 [==============================] - 4s 5ms/step - loss: 0.6906 - accuracy: 0.5362\n",
      "Epoch 33/100\n",
      "804/804 [==============================] - 4s 5ms/step - loss: 0.6907 - accuracy: 0.5360\n",
      "Epoch 34/100\n",
      "804/804 [==============================] - 4s 5ms/step - loss: 0.6906 - accuracy: 0.5365\n",
      "Epoch 35/100\n",
      "804/804 [==============================] - 4s 5ms/step - loss: 0.6903 - accuracy: 0.5366\n",
      "Epoch 36/100\n",
      "804/804 [==============================] - 4s 5ms/step - loss: 0.6906 - accuracy: 0.5363\n",
      "Epoch 37/100\n",
      "804/804 [==============================] - 4s 5ms/step - loss: 0.6906 - accuracy: 0.5360\n",
      "Epoch 38/100\n",
      "804/804 [==============================] - 4s 5ms/step - loss: 0.6905 - accuracy: 0.5361\n",
      "Epoch 39/100\n",
      "804/804 [==============================] - 4s 5ms/step - loss: 0.6907 - accuracy: 0.5362\n",
      "Epoch 40/100\n",
      "804/804 [==============================] - 4s 5ms/step - loss: 0.6906 - accuracy: 0.5360\n",
      "Epoch 41/100\n",
      "804/804 [==============================] - 4s 5ms/step - loss: 0.6905 - accuracy: 0.5351\n",
      "Epoch 42/100\n",
      "804/804 [==============================] - 4s 5ms/step - loss: 0.6906 - accuracy: 0.5361\n",
      "Epoch 43/100\n",
      "804/804 [==============================] - 4s 5ms/step - loss: 0.6906 - accuracy: 0.5362\n",
      "Epoch 44/100\n",
      "804/804 [==============================] - 4s 5ms/step - loss: 0.6905 - accuracy: 0.5363\n",
      "Epoch 45/100\n",
      "804/804 [==============================] - 4s 4ms/step - loss: 0.6905 - accuracy: 0.5361\n",
      "Epoch 46/100\n",
      "804/804 [==============================] - 4s 4ms/step - loss: 0.6905 - accuracy: 0.5365\n",
      "Epoch 47/100\n",
      "804/804 [==============================] - 4s 5ms/step - loss: 0.6905 - accuracy: 0.5366\n",
      "Epoch 48/100\n",
      "804/804 [==============================] - 4s 5ms/step - loss: 0.6904 - accuracy: 0.5362\n",
      "Epoch 49/100\n",
      "804/804 [==============================] - 4s 5ms/step - loss: 0.6904 - accuracy: 0.5366\n",
      "Epoch 50/100\n",
      "804/804 [==============================] - 4s 4ms/step - loss: 0.6905 - accuracy: 0.5365\n",
      "Epoch 51/100\n",
      "804/804 [==============================] - 4s 4ms/step - loss: 0.6904 - accuracy: 0.5364\n",
      "Epoch 52/100\n",
      "804/804 [==============================] - 4s 4ms/step - loss: 0.6902 - accuracy: 0.5364\n",
      "Epoch 53/100\n",
      "804/804 [==============================] - 4s 4ms/step - loss: 0.6904 - accuracy: 0.5367\n",
      "Epoch 54/100\n",
      "804/804 [==============================] - 4s 5ms/step - loss: 0.6904 - accuracy: 0.5365\n",
      "Epoch 55/100\n",
      "804/804 [==============================] - 3s 4ms/step - loss: 0.6905 - accuracy: 0.5331\n",
      "Epoch 56/100\n",
      "804/804 [==============================] - 3s 4ms/step - loss: 0.6905 - accuracy: 0.5364\n",
      "Epoch 57/100\n",
      "804/804 [==============================] - 3s 4ms/step - loss: 0.6904 - accuracy: 0.5363\n",
      "Epoch 58/100\n",
      "804/804 [==============================] - 4s 4ms/step - loss: 0.6904 - accuracy: 0.5363\n",
      "Epoch 59/100\n",
      "804/804 [==============================] - 3s 4ms/step - loss: 0.6905 - accuracy: 0.5362\n",
      "Epoch 60/100\n",
      "804/804 [==============================] - 4s 5ms/step - loss: 0.6904 - accuracy: 0.5364\n",
      "Epoch 61/100\n",
      "804/804 [==============================] - 3s 4ms/step - loss: 0.6904 - accuracy: 0.5363\n",
      "Epoch 62/100\n",
      "804/804 [==============================] - 3s 4ms/step - loss: 0.6904 - accuracy: 0.5365\n",
      "Epoch 63/100\n",
      "804/804 [==============================] - 3s 4ms/step - loss: 0.6905 - accuracy: 0.5366\n",
      "Epoch 64/100\n",
      "804/804 [==============================] - 3s 4ms/step - loss: 0.6904 - accuracy: 0.5366\n",
      "Epoch 65/100\n",
      "804/804 [==============================] - 3s 4ms/step - loss: 0.6904 - accuracy: 0.5364\n",
      "Epoch 66/100\n",
      "804/804 [==============================] - 3s 4ms/step - loss: 0.6904 - accuracy: 0.5369\n",
      "Epoch 67/100\n",
      "804/804 [==============================] - 3s 4ms/step - loss: 0.6904 - accuracy: 0.5367\n",
      "Epoch 68/100\n",
      "804/804 [==============================] - 3s 4ms/step - loss: 0.6905 - accuracy: 0.5365\n",
      "Epoch 69/100\n",
      "804/804 [==============================] - 4s 4ms/step - loss: 0.6904 - accuracy: 0.5365\n",
      "Epoch 70/100\n",
      "804/804 [==============================] - 3s 4ms/step - loss: 0.6905 - accuracy: 0.5362\n",
      "Epoch 71/100\n",
      "804/804 [==============================] - 3s 4ms/step - loss: 0.6905 - accuracy: 0.5367\n",
      "Epoch 72/100\n",
      "804/804 [==============================] - 3s 4ms/step - loss: 0.6903 - accuracy: 0.5355\n",
      "Epoch 73/100\n",
      "804/804 [==============================] - 3s 4ms/step - loss: 0.6905 - accuracy: 0.5365\n",
      "Epoch 74/100\n",
      "804/804 [==============================] - 4s 4ms/step - loss: 0.6904 - accuracy: 0.5367\n",
      "Epoch 75/100\n",
      "804/804 [==============================] - 3s 4ms/step - loss: 0.6904 - accuracy: 0.5367\n",
      "Epoch 76/100\n",
      "804/804 [==============================] - 3s 4ms/step - loss: 0.6904 - accuracy: 0.5368\n",
      "Epoch 77/100\n",
      "804/804 [==============================] - 4s 4ms/step - loss: 0.6904 - accuracy: 0.5369\n",
      "Epoch 78/100\n",
      "804/804 [==============================] - 3s 4ms/step - loss: 0.6904 - accuracy: 0.5362\n",
      "Epoch 79/100\n",
      "804/804 [==============================] - 4s 4ms/step - loss: 0.6903 - accuracy: 0.5370\n",
      "Epoch 80/100\n",
      "804/804 [==============================] - 3s 4ms/step - loss: 0.6904 - accuracy: 0.5367\n",
      "Epoch 81/100\n"
     ]
    },
    {
     "name": "stdout",
     "output_type": "stream",
     "text": [
      "804/804 [==============================] - 4s 4ms/step - loss: 0.6905 - accuracy: 0.5364\n",
      "Epoch 82/100\n",
      "804/804 [==============================] - 4s 5ms/step - loss: 0.6904 - accuracy: 0.5364\n",
      "Epoch 83/100\n",
      "804/804 [==============================] - 4s 5ms/step - loss: 0.6904 - accuracy: 0.5364\n",
      "Epoch 84/100\n",
      "804/804 [==============================] - 4s 5ms/step - loss: 0.6904 - accuracy: 0.5374\n",
      "Epoch 85/100\n",
      "804/804 [==============================] - 4s 5ms/step - loss: 0.6903 - accuracy: 0.5367\n",
      "Epoch 86/100\n",
      "804/804 [==============================] - 4s 5ms/step - loss: 0.6904 - accuracy: 0.5367\n",
      "Epoch 87/100\n",
      "804/804 [==============================] - 4s 4ms/step - loss: 0.6903 - accuracy: 0.5370\n",
      "Epoch 88/100\n",
      "804/804 [==============================] - 4s 4ms/step - loss: 0.6903 - accuracy: 0.5371\n",
      "Epoch 89/100\n",
      "804/804 [==============================] - 4s 5ms/step - loss: 0.6904 - accuracy: 0.5365\n",
      "Epoch 90/100\n",
      "804/804 [==============================] - 4s 5ms/step - loss: 0.6903 - accuracy: 0.5368\n",
      "Epoch 91/100\n",
      "804/804 [==============================] - 4s 5ms/step - loss: 0.6904 - accuracy: 0.5369\n",
      "Epoch 92/100\n",
      "804/804 [==============================] - 4s 4ms/step - loss: 0.6903 - accuracy: 0.5368\n",
      "Epoch 93/100\n",
      "804/804 [==============================] - 4s 4ms/step - loss: 0.6903 - accuracy: 0.5371\n",
      "Epoch 94/100\n",
      "804/804 [==============================] - 3s 4ms/step - loss: 0.6904 - accuracy: 0.5369\n",
      "Epoch 95/100\n",
      "804/804 [==============================] - 3s 4ms/step - loss: 0.6903 - accuracy: 0.5368\n",
      "Epoch 96/100\n",
      "804/804 [==============================] - 4s 4ms/step - loss: 0.6904 - accuracy: 0.5362\n",
      "Epoch 97/100\n",
      "804/804 [==============================] - 4s 4ms/step - loss: 0.6903 - accuracy: 0.5369\n",
      "Epoch 98/100\n",
      "804/804 [==============================] - 4s 5ms/step - loss: 0.6903 - accuracy: 0.5363\n",
      "Epoch 99/100\n",
      "804/804 [==============================] - 4s 5ms/step - loss: 0.6903 - accuracy: 0.5369\n",
      "Epoch 100/100\n",
      "804/804 [==============================] - 4s 5ms/step - loss: 0.6904 - accuracy: 0.5370\n"
     ]
    }
   ],
   "source": [
    "# Train the model\n",
    "fit_model = nn.fit(X_train_scaled,y_train,epochs=100)\n"
   ]
  },
  {
   "cell_type": "code",
   "execution_count": 8,
   "metadata": {
    "ExecuteTime": {
     "end_time": "2023-05-21T02:09:07.696691Z",
     "start_time": "2023-05-21T02:09:06.803352Z"
    }
   },
   "outputs": [
    {
     "name": "stdout",
     "output_type": "stream",
     "text": [
      "268/268 - 1s - loss: 0.6906 - accuracy: 0.5359 - 818ms/epoch - 3ms/step\n",
      "Loss: 0.6905991435050964, Accuracy: 0.5358600616455078\n"
     ]
    }
   ],
   "source": [
    "# Evaluate the model using the test data\n",
    "model_loss, model_accuracy = nn.evaluate(X_test_scaled,y_test,verbose=2)\n",
    "print(f\"Loss: {model_loss}, Accuracy: {model_accuracy}\")"
   ]
  },
  {
   "cell_type": "code",
   "execution_count": null,
   "metadata": {
    "ExecuteTime": {
     "end_time": "2023-05-20T05:01:53.803417Z",
     "start_time": "2023-05-20T05:01:53.747450Z"
    }
   },
   "outputs": [],
   "source": [
    "# Save the model\n",
    "nn.save(\"AlphabetSoupCharity.h5\")\n"
   ]
  },
  {
   "cell_type": "code",
   "execution_count": null,
   "metadata": {},
   "outputs": [],
   "source": []
  }
 ],
 "metadata": {
  "kernelspec": {
   "display_name": "neuralpython",
   "language": "python",
   "name": "neuralpython"
  },
  "language_info": {
   "codemirror_mode": {
    "name": "ipython",
    "version": 3
   },
   "file_extension": ".py",
   "mimetype": "text/x-python",
   "name": "python",
   "nbconvert_exporter": "python",
   "pygments_lexer": "ipython3",
   "version": "3.10.9"
  },
  "vscode": {
   "interpreter": {
    "hash": "31f2aee4e71d21fbe5cf8b01ff0e069b9275f58929596ceb00d14d90e3e16cd6"
   }
  }
 },
 "nbformat": 4,
 "nbformat_minor": 4
}
