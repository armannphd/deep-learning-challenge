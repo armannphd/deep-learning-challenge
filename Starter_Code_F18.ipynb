{
 "cells": [
  {
   "cell_type": "markdown",
   "metadata": {},
   "source": [
    "## Preprocessing\n",
    "### Based on F17, optimzer is adam"
   ]
  },
  {
   "cell_type": "code",
   "execution_count": 1,
   "metadata": {
    "ExecuteTime": {
     "end_time": "2023-05-20T02:29:27.404990Z",
     "start_time": "2023-05-20T02:29:22.768472Z"
    },
    "scrolled": true
   },
   "outputs": [
    {
     "data": {
      "text/html": [
       "<div>\n",
       "<style scoped>\n",
       "    .dataframe tbody tr th:only-of-type {\n",
       "        vertical-align: middle;\n",
       "    }\n",
       "\n",
       "    .dataframe tbody tr th {\n",
       "        vertical-align: top;\n",
       "    }\n",
       "\n",
       "    .dataframe thead th {\n",
       "        text-align: right;\n",
       "    }\n",
       "</style>\n",
       "<table border=\"1\" class=\"dataframe\">\n",
       "  <thead>\n",
       "    <tr style=\"text-align: right;\">\n",
       "      <th></th>\n",
       "      <th>EIN</th>\n",
       "      <th>NAME</th>\n",
       "      <th>APPLICATION_TYPE</th>\n",
       "      <th>AFFILIATION</th>\n",
       "      <th>CLASSIFICATION</th>\n",
       "      <th>USE_CASE</th>\n",
       "      <th>ORGANIZATION</th>\n",
       "      <th>STATUS</th>\n",
       "      <th>INCOME_AMT</th>\n",
       "      <th>SPECIAL_CONSIDERATIONS</th>\n",
       "      <th>ASK_AMT</th>\n",
       "      <th>IS_SUCCESSFUL</th>\n",
       "    </tr>\n",
       "  </thead>\n",
       "  <tbody>\n",
       "    <tr>\n",
       "      <th>0</th>\n",
       "      <td>10520599</td>\n",
       "      <td>BLUE KNIGHTS MOTORCYCLE CLUB</td>\n",
       "      <td>T10</td>\n",
       "      <td>Independent</td>\n",
       "      <td>C1000</td>\n",
       "      <td>ProductDev</td>\n",
       "      <td>Association</td>\n",
       "      <td>1</td>\n",
       "      <td>0</td>\n",
       "      <td>N</td>\n",
       "      <td>5000</td>\n",
       "      <td>1</td>\n",
       "    </tr>\n",
       "    <tr>\n",
       "      <th>1</th>\n",
       "      <td>10531628</td>\n",
       "      <td>AMERICAN CHESAPEAKE CLUB CHARITABLE TR</td>\n",
       "      <td>T3</td>\n",
       "      <td>Independent</td>\n",
       "      <td>C2000</td>\n",
       "      <td>Preservation</td>\n",
       "      <td>Co-operative</td>\n",
       "      <td>1</td>\n",
       "      <td>1-9999</td>\n",
       "      <td>N</td>\n",
       "      <td>108590</td>\n",
       "      <td>1</td>\n",
       "    </tr>\n",
       "    <tr>\n",
       "      <th>2</th>\n",
       "      <td>10547893</td>\n",
       "      <td>ST CLOUD PROFESSIONAL FIREFIGHTERS</td>\n",
       "      <td>T5</td>\n",
       "      <td>CompanySponsored</td>\n",
       "      <td>C3000</td>\n",
       "      <td>ProductDev</td>\n",
       "      <td>Association</td>\n",
       "      <td>1</td>\n",
       "      <td>0</td>\n",
       "      <td>N</td>\n",
       "      <td>5000</td>\n",
       "      <td>0</td>\n",
       "    </tr>\n",
       "    <tr>\n",
       "      <th>3</th>\n",
       "      <td>10553066</td>\n",
       "      <td>SOUTHSIDE ATHLETIC ASSOCIATION</td>\n",
       "      <td>T3</td>\n",
       "      <td>CompanySponsored</td>\n",
       "      <td>C2000</td>\n",
       "      <td>Preservation</td>\n",
       "      <td>Trust</td>\n",
       "      <td>1</td>\n",
       "      <td>10000-24999</td>\n",
       "      <td>N</td>\n",
       "      <td>6692</td>\n",
       "      <td>1</td>\n",
       "    </tr>\n",
       "    <tr>\n",
       "      <th>4</th>\n",
       "      <td>10556103</td>\n",
       "      <td>GENETIC RESEARCH INSTITUTE OF THE DESERT</td>\n",
       "      <td>T3</td>\n",
       "      <td>Independent</td>\n",
       "      <td>C1000</td>\n",
       "      <td>Heathcare</td>\n",
       "      <td>Trust</td>\n",
       "      <td>1</td>\n",
       "      <td>100000-499999</td>\n",
       "      <td>N</td>\n",
       "      <td>142590</td>\n",
       "      <td>1</td>\n",
       "    </tr>\n",
       "  </tbody>\n",
       "</table>\n",
       "</div>"
      ],
      "text/plain": [
       "        EIN                                      NAME APPLICATION_TYPE  \\\n",
       "0  10520599              BLUE KNIGHTS MOTORCYCLE CLUB              T10   \n",
       "1  10531628    AMERICAN CHESAPEAKE CLUB CHARITABLE TR               T3   \n",
       "2  10547893        ST CLOUD PROFESSIONAL FIREFIGHTERS               T5   \n",
       "3  10553066            SOUTHSIDE ATHLETIC ASSOCIATION               T3   \n",
       "4  10556103  GENETIC RESEARCH INSTITUTE OF THE DESERT               T3   \n",
       "\n",
       "        AFFILIATION CLASSIFICATION      USE_CASE  ORGANIZATION  STATUS  \\\n",
       "0       Independent          C1000    ProductDev   Association       1   \n",
       "1       Independent          C2000  Preservation  Co-operative       1   \n",
       "2  CompanySponsored          C3000    ProductDev   Association       1   \n",
       "3  CompanySponsored          C2000  Preservation         Trust       1   \n",
       "4       Independent          C1000     Heathcare         Trust       1   \n",
       "\n",
       "      INCOME_AMT SPECIAL_CONSIDERATIONS  ASK_AMT  IS_SUCCESSFUL  \n",
       "0              0                      N     5000              1  \n",
       "1         1-9999                      N   108590              1  \n",
       "2              0                      N     5000              0  \n",
       "3    10000-24999                      N     6692              1  \n",
       "4  100000-499999                      N   142590              1  "
      ]
     },
     "execution_count": 1,
     "metadata": {},
     "output_type": "execute_result"
    }
   ],
   "source": [
    "from sklearn.model_selection import train_test_split\n",
    "from sklearn.preprocessing import StandardScaler\n",
    "import pandas as pd\n",
    "import tensorflow as tf\n",
    "\n",
    "#  Import and read the charity_data.csv.\n",
    "import pandas as pd \n",
    "application_df = pd.read_csv(\"https://static.bc-edx.com/data/dl-1-2/m21/lms/starter/charity_data.csv\")\n",
    "application_df.head()"
   ]
  },
  {
   "cell_type": "code",
   "execution_count": 2,
   "metadata": {
    "ExecuteTime": {
     "end_time": "2023-05-20T02:29:28.254614Z",
     "start_time": "2023-05-20T02:29:28.236531Z"
    }
   },
   "outputs": [
    {
     "data": {
      "text/html": [
       "<div>\n",
       "<style scoped>\n",
       "    .dataframe tbody tr th:only-of-type {\n",
       "        vertical-align: middle;\n",
       "    }\n",
       "\n",
       "    .dataframe tbody tr th {\n",
       "        vertical-align: top;\n",
       "    }\n",
       "\n",
       "    .dataframe thead th {\n",
       "        text-align: right;\n",
       "    }\n",
       "</style>\n",
       "<table border=\"1\" class=\"dataframe\">\n",
       "  <thead>\n",
       "    <tr style=\"text-align: right;\">\n",
       "      <th></th>\n",
       "      <th>APPLICATION_TYPE</th>\n",
       "      <th>AFFILIATION</th>\n",
       "      <th>CLASSIFICATION</th>\n",
       "      <th>SPECIAL_CONSIDERATIONS</th>\n",
       "      <th>ASK_AMT</th>\n",
       "      <th>IS_SUCCESSFUL</th>\n",
       "    </tr>\n",
       "  </thead>\n",
       "  <tbody>\n",
       "    <tr>\n",
       "      <th>0</th>\n",
       "      <td>T10</td>\n",
       "      <td>Independent</td>\n",
       "      <td>C1000</td>\n",
       "      <td>N</td>\n",
       "      <td>5000</td>\n",
       "      <td>1</td>\n",
       "    </tr>\n",
       "    <tr>\n",
       "      <th>1</th>\n",
       "      <td>T3</td>\n",
       "      <td>Independent</td>\n",
       "      <td>C2000</td>\n",
       "      <td>N</td>\n",
       "      <td>108590</td>\n",
       "      <td>1</td>\n",
       "    </tr>\n",
       "    <tr>\n",
       "      <th>2</th>\n",
       "      <td>T5</td>\n",
       "      <td>CompanySponsored</td>\n",
       "      <td>C3000</td>\n",
       "      <td>N</td>\n",
       "      <td>5000</td>\n",
       "      <td>0</td>\n",
       "    </tr>\n",
       "    <tr>\n",
       "      <th>3</th>\n",
       "      <td>T3</td>\n",
       "      <td>CompanySponsored</td>\n",
       "      <td>C2000</td>\n",
       "      <td>N</td>\n",
       "      <td>6692</td>\n",
       "      <td>1</td>\n",
       "    </tr>\n",
       "    <tr>\n",
       "      <th>4</th>\n",
       "      <td>T3</td>\n",
       "      <td>Independent</td>\n",
       "      <td>C1000</td>\n",
       "      <td>N</td>\n",
       "      <td>142590</td>\n",
       "      <td>1</td>\n",
       "    </tr>\n",
       "    <tr>\n",
       "      <th>...</th>\n",
       "      <td>...</td>\n",
       "      <td>...</td>\n",
       "      <td>...</td>\n",
       "      <td>...</td>\n",
       "      <td>...</td>\n",
       "      <td>...</td>\n",
       "    </tr>\n",
       "    <tr>\n",
       "      <th>34294</th>\n",
       "      <td>T4</td>\n",
       "      <td>Independent</td>\n",
       "      <td>C1000</td>\n",
       "      <td>N</td>\n",
       "      <td>5000</td>\n",
       "      <td>0</td>\n",
       "    </tr>\n",
       "    <tr>\n",
       "      <th>34295</th>\n",
       "      <td>T4</td>\n",
       "      <td>CompanySponsored</td>\n",
       "      <td>C3000</td>\n",
       "      <td>N</td>\n",
       "      <td>5000</td>\n",
       "      <td>0</td>\n",
       "    </tr>\n",
       "    <tr>\n",
       "      <th>34296</th>\n",
       "      <td>T3</td>\n",
       "      <td>CompanySponsored</td>\n",
       "      <td>C2000</td>\n",
       "      <td>N</td>\n",
       "      <td>5000</td>\n",
       "      <td>0</td>\n",
       "    </tr>\n",
       "    <tr>\n",
       "      <th>34297</th>\n",
       "      <td>T5</td>\n",
       "      <td>Independent</td>\n",
       "      <td>C3000</td>\n",
       "      <td>N</td>\n",
       "      <td>5000</td>\n",
       "      <td>1</td>\n",
       "    </tr>\n",
       "    <tr>\n",
       "      <th>34298</th>\n",
       "      <td>T3</td>\n",
       "      <td>Independent</td>\n",
       "      <td>C1000</td>\n",
       "      <td>N</td>\n",
       "      <td>36500179</td>\n",
       "      <td>0</td>\n",
       "    </tr>\n",
       "  </tbody>\n",
       "</table>\n",
       "<p>34299 rows × 6 columns</p>\n",
       "</div>"
      ],
      "text/plain": [
       "      APPLICATION_TYPE       AFFILIATION CLASSIFICATION  \\\n",
       "0                  T10       Independent          C1000   \n",
       "1                   T3       Independent          C2000   \n",
       "2                   T5  CompanySponsored          C3000   \n",
       "3                   T3  CompanySponsored          C2000   \n",
       "4                   T3       Independent          C1000   \n",
       "...                ...               ...            ...   \n",
       "34294               T4       Independent          C1000   \n",
       "34295               T4  CompanySponsored          C3000   \n",
       "34296               T3  CompanySponsored          C2000   \n",
       "34297               T5       Independent          C3000   \n",
       "34298               T3       Independent          C1000   \n",
       "\n",
       "      SPECIAL_CONSIDERATIONS   ASK_AMT  IS_SUCCESSFUL  \n",
       "0                          N      5000              1  \n",
       "1                          N    108590              1  \n",
       "2                          N      5000              0  \n",
       "3                          N      6692              1  \n",
       "4                          N    142590              1  \n",
       "...                      ...       ...            ...  \n",
       "34294                      N      5000              0  \n",
       "34295                      N      5000              0  \n",
       "34296                      N      5000              0  \n",
       "34297                      N      5000              1  \n",
       "34298                      N  36500179              0  \n",
       "\n",
       "[34299 rows x 6 columns]"
      ]
     },
     "execution_count": 2,
     "metadata": {},
     "output_type": "execute_result"
    }
   ],
   "source": [
    "# Drop the non-beneficial ID columns, 'EIN' and 'NAME'.\n",
    "application_df.drop(columns=['EIN', 'NAME', 'USE_CASE', 'ORGANIZATION', 'STATUS', 'INCOME_AMT'], inplace=True)\n",
    "application_df\n"
   ]
  },
  {
   "cell_type": "code",
   "execution_count": 3,
   "metadata": {
    "ExecuteTime": {
     "end_time": "2023-05-20T02:29:28.680137Z",
     "start_time": "2023-05-20T02:29:28.659818Z"
    }
   },
   "outputs": [
    {
     "data": {
      "text/plain": [
       "APPLICATION_TYPE            17\n",
       "AFFILIATION                  6\n",
       "CLASSIFICATION              71\n",
       "SPECIAL_CONSIDERATIONS       2\n",
       "ASK_AMT                   8747\n",
       "IS_SUCCESSFUL                2\n",
       "dtype: int64"
      ]
     },
     "execution_count": 3,
     "metadata": {},
     "output_type": "execute_result"
    }
   ],
   "source": [
    "# Determine the number of unique values in each column.\n",
    "application_df.nunique()\n"
   ]
  },
  {
   "cell_type": "code",
   "execution_count": 4,
   "metadata": {
    "ExecuteTime": {
     "end_time": "2023-05-20T02:29:29.058121Z",
     "start_time": "2023-05-20T02:29:29.045028Z"
    }
   },
   "outputs": [
    {
     "data": {
      "text/plain": [
       "T3     27037\n",
       "T4      1542\n",
       "T6      1216\n",
       "T5      1173\n",
       "T19     1065\n",
       "T8       737\n",
       "T7       725\n",
       "T10      528\n",
       "T9       156\n",
       "T13       66\n",
       "T12       27\n",
       "T2        16\n",
       "T25        3\n",
       "T14        3\n",
       "T29        2\n",
       "T15        2\n",
       "T17        1\n",
       "Name: APPLICATION_TYPE, dtype: int64"
      ]
     },
     "execution_count": 4,
     "metadata": {},
     "output_type": "execute_result"
    }
   ],
   "source": [
    "# Look at APPLICATION_TYPE value counts for binning\n",
    "application_type_counts = application_df['APPLICATION_TYPE'].value_counts()\n",
    "application_type_counts\n"
   ]
  },
  {
   "cell_type": "code",
   "execution_count": 5,
   "metadata": {
    "ExecuteTime": {
     "end_time": "2023-05-20T02:29:29.567147Z",
     "start_time": "2023-05-20T02:29:29.539347Z"
    }
   },
   "outputs": [
    {
     "data": {
      "text/plain": [
       "T3       27037\n",
       "T4        1542\n",
       "T6        1216\n",
       "T5        1173\n",
       "T19       1065\n",
       "T8         737\n",
       "T7         725\n",
       "T10        528\n",
       "Other      276\n",
       "Name: APPLICATION_TYPE, dtype: int64"
      ]
     },
     "execution_count": 5,
     "metadata": {},
     "output_type": "execute_result"
    }
   ],
   "source": [
    "# Choose a cutoff value and create a list of application types to be replaced\n",
    "# use the variable name `application_types_to_replace`\n",
    "cutoff_value = 500\n",
    "application_types_to_replace = application_type_counts[\n",
    "    application_type_counts < cutoff_value].index.tolist()\n",
    "\n",
    "\n",
    "# Replace in dataframe\n",
    "for app in application_types_to_replace:\n",
    "    application_df['APPLICATION_TYPE'] = application_df['APPLICATION_TYPE'].replace(app,\"Other\")\n",
    "\n",
    "# Check to make sure binning was successful\n",
    "application_df['APPLICATION_TYPE'].value_counts()\n"
   ]
  },
  {
   "cell_type": "code",
   "execution_count": 6,
   "metadata": {
    "ExecuteTime": {
     "end_time": "2023-05-20T02:29:29.933326Z",
     "start_time": "2023-05-20T02:29:29.922376Z"
    }
   },
   "outputs": [
    {
     "data": {
      "text/plain": [
       "C1000    17326\n",
       "C2000     6074\n",
       "C1200     4837\n",
       "C3000     1918\n",
       "C2100     1883\n",
       "         ...  \n",
       "C4120        1\n",
       "C8210        1\n",
       "C2561        1\n",
       "C4500        1\n",
       "C2150        1\n",
       "Name: CLASSIFICATION, Length: 71, dtype: int64"
      ]
     },
     "execution_count": 6,
     "metadata": {},
     "output_type": "execute_result"
    }
   ],
   "source": [
    "# Look at CLASSIFICATION value counts for binning\n",
    "classification_counts = application_df['CLASSIFICATION'].value_counts()\n",
    "classification_counts\n"
   ]
  },
  {
   "cell_type": "code",
   "execution_count": 7,
   "metadata": {
    "ExecuteTime": {
     "end_time": "2023-05-20T02:29:30.309882Z",
     "start_time": "2023-05-20T02:29:30.301536Z"
    }
   },
   "outputs": [
    {
     "data": {
      "text/plain": [
       "C1000    17326\n",
       "C2000     6074\n",
       "C1200     4837\n",
       "C3000     1918\n",
       "C2100     1883\n",
       "C7000      777\n",
       "C1700      287\n",
       "C4000      194\n",
       "C5000      116\n",
       "C1270      114\n",
       "C2700      104\n",
       "C2800       95\n",
       "C7100       75\n",
       "C1300       58\n",
       "C1280       50\n",
       "C1230       36\n",
       "C1400       34\n",
       "C7200       32\n",
       "C2300       32\n",
       "C1240       30\n",
       "C8000       20\n",
       "C7120       18\n",
       "C1500       16\n",
       "C1800       15\n",
       "C6000       15\n",
       "C1250       14\n",
       "C8200       11\n",
       "C1238       10\n",
       "C1278       10\n",
       "C1235        9\n",
       "C1237        9\n",
       "C7210        7\n",
       "C2400        6\n",
       "C1720        6\n",
       "C4100        6\n",
       "C1257        5\n",
       "C1600        5\n",
       "C1260        3\n",
       "C2710        3\n",
       "C0           3\n",
       "C3200        2\n",
       "C1234        2\n",
       "C1246        2\n",
       "C1267        2\n",
       "C1256        2\n",
       "Name: CLASSIFICATION, dtype: int64"
      ]
     },
     "execution_count": 7,
     "metadata": {},
     "output_type": "execute_result"
    }
   ],
   "source": [
    "# You may find it helpful to look at CLASSIFICATION value counts >1\n",
    "classification_counts_greaterthan_1 = classification_counts[classification_counts > 1]\n",
    "classification_counts_greaterthan_1\n",
    "\n"
   ]
  },
  {
   "cell_type": "code",
   "execution_count": 8,
   "metadata": {
    "ExecuteTime": {
     "end_time": "2023-05-20T02:29:30.724694Z",
     "start_time": "2023-05-20T02:29:30.643127Z"
    }
   },
   "outputs": [
    {
     "data": {
      "text/plain": [
       "C1000    17326\n",
       "C2000     6074\n",
       "C1200     4837\n",
       "C3000     1918\n",
       "C2100     1883\n",
       "C7000      777\n",
       "Other      669\n",
       "C1700      287\n",
       "C4000      194\n",
       "C5000      116\n",
       "C1270      114\n",
       "C2700      104\n",
       "Name: CLASSIFICATION, dtype: int64"
      ]
     },
     "execution_count": 8,
     "metadata": {},
     "output_type": "execute_result"
    }
   ],
   "source": [
    "# Choose a cutoff value and create a list of classifications to be replaced\n",
    "# use the variable name `classifications_to_replace`\n",
    "\n",
    "cutoff_value = 100  \n",
    "classifications_to_replace = classification_counts[\n",
    "    classification_counts < cutoff_value].index.tolist()\n",
    "\n",
    "\n",
    "# Replace in dataframe\n",
    "for cls in classifications_to_replace:\n",
    "    application_df['CLASSIFICATION'] = application_df['CLASSIFICATION'].replace(cls,\"Other\")\n",
    "    \n",
    "# Check to make sure binning was successful\n",
    "application_df['CLASSIFICATION'].value_counts()\n",
    "\n"
   ]
  },
  {
   "cell_type": "code",
   "execution_count": 9,
   "metadata": {
    "ExecuteTime": {
     "end_time": "2023-05-20T02:29:31.059106Z",
     "start_time": "2023-05-20T02:29:31.022924Z"
    }
   },
   "outputs": [
    {
     "data": {
      "text/html": [
       "<div>\n",
       "<style scoped>\n",
       "    .dataframe tbody tr th:only-of-type {\n",
       "        vertical-align: middle;\n",
       "    }\n",
       "\n",
       "    .dataframe tbody tr th {\n",
       "        vertical-align: top;\n",
       "    }\n",
       "\n",
       "    .dataframe thead th {\n",
       "        text-align: right;\n",
       "    }\n",
       "</style>\n",
       "<table border=\"1\" class=\"dataframe\">\n",
       "  <thead>\n",
       "    <tr style=\"text-align: right;\">\n",
       "      <th></th>\n",
       "      <th>ASK_AMT</th>\n",
       "      <th>IS_SUCCESSFUL</th>\n",
       "      <th>APPLICATION_TYPE_Other</th>\n",
       "      <th>APPLICATION_TYPE_T10</th>\n",
       "      <th>APPLICATION_TYPE_T19</th>\n",
       "      <th>APPLICATION_TYPE_T3</th>\n",
       "      <th>APPLICATION_TYPE_T4</th>\n",
       "      <th>APPLICATION_TYPE_T5</th>\n",
       "      <th>APPLICATION_TYPE_T6</th>\n",
       "      <th>APPLICATION_TYPE_T7</th>\n",
       "      <th>...</th>\n",
       "      <th>CLASSIFICATION_C2000</th>\n",
       "      <th>CLASSIFICATION_C2100</th>\n",
       "      <th>CLASSIFICATION_C2700</th>\n",
       "      <th>CLASSIFICATION_C3000</th>\n",
       "      <th>CLASSIFICATION_C4000</th>\n",
       "      <th>CLASSIFICATION_C5000</th>\n",
       "      <th>CLASSIFICATION_C7000</th>\n",
       "      <th>CLASSIFICATION_Other</th>\n",
       "      <th>SPECIAL_CONSIDERATIONS_N</th>\n",
       "      <th>SPECIAL_CONSIDERATIONS_Y</th>\n",
       "    </tr>\n",
       "  </thead>\n",
       "  <tbody>\n",
       "    <tr>\n",
       "      <th>0</th>\n",
       "      <td>5000</td>\n",
       "      <td>1</td>\n",
       "      <td>0</td>\n",
       "      <td>1</td>\n",
       "      <td>0</td>\n",
       "      <td>0</td>\n",
       "      <td>0</td>\n",
       "      <td>0</td>\n",
       "      <td>0</td>\n",
       "      <td>0</td>\n",
       "      <td>...</td>\n",
       "      <td>0</td>\n",
       "      <td>0</td>\n",
       "      <td>0</td>\n",
       "      <td>0</td>\n",
       "      <td>0</td>\n",
       "      <td>0</td>\n",
       "      <td>0</td>\n",
       "      <td>0</td>\n",
       "      <td>1</td>\n",
       "      <td>0</td>\n",
       "    </tr>\n",
       "    <tr>\n",
       "      <th>1</th>\n",
       "      <td>108590</td>\n",
       "      <td>1</td>\n",
       "      <td>0</td>\n",
       "      <td>0</td>\n",
       "      <td>0</td>\n",
       "      <td>1</td>\n",
       "      <td>0</td>\n",
       "      <td>0</td>\n",
       "      <td>0</td>\n",
       "      <td>0</td>\n",
       "      <td>...</td>\n",
       "      <td>1</td>\n",
       "      <td>0</td>\n",
       "      <td>0</td>\n",
       "      <td>0</td>\n",
       "      <td>0</td>\n",
       "      <td>0</td>\n",
       "      <td>0</td>\n",
       "      <td>0</td>\n",
       "      <td>1</td>\n",
       "      <td>0</td>\n",
       "    </tr>\n",
       "    <tr>\n",
       "      <th>2</th>\n",
       "      <td>5000</td>\n",
       "      <td>0</td>\n",
       "      <td>0</td>\n",
       "      <td>0</td>\n",
       "      <td>0</td>\n",
       "      <td>0</td>\n",
       "      <td>0</td>\n",
       "      <td>1</td>\n",
       "      <td>0</td>\n",
       "      <td>0</td>\n",
       "      <td>...</td>\n",
       "      <td>0</td>\n",
       "      <td>0</td>\n",
       "      <td>0</td>\n",
       "      <td>1</td>\n",
       "      <td>0</td>\n",
       "      <td>0</td>\n",
       "      <td>0</td>\n",
       "      <td>0</td>\n",
       "      <td>1</td>\n",
       "      <td>0</td>\n",
       "    </tr>\n",
       "    <tr>\n",
       "      <th>3</th>\n",
       "      <td>6692</td>\n",
       "      <td>1</td>\n",
       "      <td>0</td>\n",
       "      <td>0</td>\n",
       "      <td>0</td>\n",
       "      <td>1</td>\n",
       "      <td>0</td>\n",
       "      <td>0</td>\n",
       "      <td>0</td>\n",
       "      <td>0</td>\n",
       "      <td>...</td>\n",
       "      <td>1</td>\n",
       "      <td>0</td>\n",
       "      <td>0</td>\n",
       "      <td>0</td>\n",
       "      <td>0</td>\n",
       "      <td>0</td>\n",
       "      <td>0</td>\n",
       "      <td>0</td>\n",
       "      <td>1</td>\n",
       "      <td>0</td>\n",
       "    </tr>\n",
       "    <tr>\n",
       "      <th>4</th>\n",
       "      <td>142590</td>\n",
       "      <td>1</td>\n",
       "      <td>0</td>\n",
       "      <td>0</td>\n",
       "      <td>0</td>\n",
       "      <td>1</td>\n",
       "      <td>0</td>\n",
       "      <td>0</td>\n",
       "      <td>0</td>\n",
       "      <td>0</td>\n",
       "      <td>...</td>\n",
       "      <td>0</td>\n",
       "      <td>0</td>\n",
       "      <td>0</td>\n",
       "      <td>0</td>\n",
       "      <td>0</td>\n",
       "      <td>0</td>\n",
       "      <td>0</td>\n",
       "      <td>0</td>\n",
       "      <td>1</td>\n",
       "      <td>0</td>\n",
       "    </tr>\n",
       "  </tbody>\n",
       "</table>\n",
       "<p>5 rows × 31 columns</p>\n",
       "</div>"
      ],
      "text/plain": [
       "   ASK_AMT  IS_SUCCESSFUL  APPLICATION_TYPE_Other  APPLICATION_TYPE_T10  \\\n",
       "0     5000              1                       0                     1   \n",
       "1   108590              1                       0                     0   \n",
       "2     5000              0                       0                     0   \n",
       "3     6692              1                       0                     0   \n",
       "4   142590              1                       0                     0   \n",
       "\n",
       "   APPLICATION_TYPE_T19  APPLICATION_TYPE_T3  APPLICATION_TYPE_T4  \\\n",
       "0                     0                    0                    0   \n",
       "1                     0                    1                    0   \n",
       "2                     0                    0                    0   \n",
       "3                     0                    1                    0   \n",
       "4                     0                    1                    0   \n",
       "\n",
       "   APPLICATION_TYPE_T5  APPLICATION_TYPE_T6  APPLICATION_TYPE_T7  ...  \\\n",
       "0                    0                    0                    0  ...   \n",
       "1                    0                    0                    0  ...   \n",
       "2                    1                    0                    0  ...   \n",
       "3                    0                    0                    0  ...   \n",
       "4                    0                    0                    0  ...   \n",
       "\n",
       "   CLASSIFICATION_C2000  CLASSIFICATION_C2100  CLASSIFICATION_C2700  \\\n",
       "0                     0                     0                     0   \n",
       "1                     1                     0                     0   \n",
       "2                     0                     0                     0   \n",
       "3                     1                     0                     0   \n",
       "4                     0                     0                     0   \n",
       "\n",
       "   CLASSIFICATION_C3000  CLASSIFICATION_C4000  CLASSIFICATION_C5000  \\\n",
       "0                     0                     0                     0   \n",
       "1                     0                     0                     0   \n",
       "2                     1                     0                     0   \n",
       "3                     0                     0                     0   \n",
       "4                     0                     0                     0   \n",
       "\n",
       "   CLASSIFICATION_C7000  CLASSIFICATION_Other  SPECIAL_CONSIDERATIONS_N  \\\n",
       "0                     0                     0                         1   \n",
       "1                     0                     0                         1   \n",
       "2                     0                     0                         1   \n",
       "3                     0                     0                         1   \n",
       "4                     0                     0                         1   \n",
       "\n",
       "   SPECIAL_CONSIDERATIONS_Y  \n",
       "0                         0  \n",
       "1                         0  \n",
       "2                         0  \n",
       "3                         0  \n",
       "4                         0  \n",
       "\n",
       "[5 rows x 31 columns]"
      ]
     },
     "execution_count": 9,
     "metadata": {},
     "output_type": "execute_result"
    }
   ],
   "source": [
    "# Convert categorical data to numeric with `pd.get_dummies`\n",
    "# Generate the dummies for each categorical column\n",
    "application_df = pd.get_dummies(application_df, columns=['APPLICATION_TYPE', 'AFFILIATION', 'CLASSIFICATION', 'SPECIAL_CONSIDERATIONS'])\n",
    "application_df.head()\n"
   ]
  },
  {
   "cell_type": "code",
   "execution_count": 10,
   "metadata": {
    "ExecuteTime": {
     "end_time": "2023-05-20T02:29:31.430632Z",
     "start_time": "2023-05-20T02:29:31.408829Z"
    }
   },
   "outputs": [
    {
     "name": "stderr",
     "output_type": "stream",
     "text": [
      "/var/folders/kh/xdg24th513g9kjvzg1lqylsc0000gn/T/ipykernel_68938/2823290356.py:3: FutureWarning: In a future version of pandas all arguments of DataFrame.drop except for the argument 'labels' will be keyword-only.\n",
      "  X = application_df.drop(['IS_SUCCESSFUL'],1).values\n"
     ]
    }
   ],
   "source": [
    "# Split our preprocessed data into our features and target arrays\n",
    "y = application_df['IS_SUCCESSFUL'].values\n",
    "X = application_df.drop(['IS_SUCCESSFUL'],1).values\n",
    "\n",
    "# Split the preprocessed data into a training and testing dataset\n",
    "X_train, X_test, y_train, y_test = train_test_split(X, y, random_state=42)\n",
    "\n"
   ]
  },
  {
   "cell_type": "code",
   "execution_count": 11,
   "metadata": {
    "ExecuteTime": {
     "end_time": "2023-05-20T02:29:31.789007Z",
     "start_time": "2023-05-20T02:29:31.764630Z"
    }
   },
   "outputs": [],
   "source": [
    "# Create a StandardScaler instances\n",
    "scaler = StandardScaler()\n",
    "\n",
    "# Fit the StandardScaler\n",
    "X_scaler = scaler.fit(X_train)\n",
    "\n",
    "# Scale the data\n",
    "X_train_scaled = X_scaler.transform(X_train)\n",
    "X_test_scaled = X_scaler.transform(X_test)"
   ]
  },
  {
   "cell_type": "markdown",
   "metadata": {},
   "source": [
    "## Compile, Train and Evaluate the Model"
   ]
  },
  {
   "cell_type": "code",
   "execution_count": 12,
   "metadata": {
    "ExecuteTime": {
     "end_time": "2023-05-20T02:29:32.738183Z",
     "start_time": "2023-05-20T02:29:32.554900Z"
    }
   },
   "outputs": [
    {
     "name": "stdout",
     "output_type": "stream",
     "text": [
      "Metal device set to: Apple M2\n",
      "Model: \"sequential\"\n",
      "_________________________________________________________________\n",
      " Layer (type)                Output Shape              Param #   \n",
      "=================================================================\n",
      " dense (Dense)               (None, 100)               3100      \n",
      "                                                                 \n",
      " dense_1 (Dense)             (None, 70)                7070      \n",
      "                                                                 \n",
      " dense_2 (Dense)             (None, 50)                3550      \n",
      "                                                                 \n",
      " dense_3 (Dense)             (None, 40)                2040      \n",
      "                                                                 \n",
      " dense_4 (Dense)             (None, 20)                820       \n",
      "                                                                 \n",
      " dense_5 (Dense)             (None, 1)                 21        \n",
      "                                                                 \n",
      "=================================================================\n",
      "Total params: 16,601\n",
      "Trainable params: 16,601\n",
      "Non-trainable params: 0\n",
      "_________________________________________________________________\n"
     ]
    }
   ],
   "source": [
    "# Define the model - deep neural net, i.e., the number of input features and hidden nodes for each layer.\n",
    "number_input_features = len(X_train[0])\n",
    "hidden_nodes_layer1 =  100\n",
    "hidden_nodes_layer2 = 70\n",
    "hidden_nodes_layer3 = 50\n",
    "hidden_nodes_layer4 = 40\n",
    "hidden_nodes_layer5 = 20\n",
    "\n",
    "\n",
    "nn = tf.keras.models.Sequential()\n",
    "\n",
    "# First hidden layer\n",
    "nn.add(\n",
    "    tf.keras.layers.Dense(units=hidden_nodes_layer1, input_dim=number_input_features, activation=\"relu\")\n",
    ")\n",
    "\n",
    "# Second hidden layer\n",
    "nn.add(tf.keras.layers.Dense(units=hidden_nodes_layer2, activation=\"relu\"))\n",
    "\n",
    "# Third hidden layer\n",
    "nn.add(tf.keras.layers.Dense(units=hidden_nodes_layer3, activation=\"relu\"))\n",
    "\n",
    "# Fourth hidden layer\n",
    "nn.add(tf.keras.layers.Dense(units=hidden_nodes_layer4, activation=\"relu\"))\n",
    "\n",
    "# Fifth hidden layer\n",
    "nn.add(tf.keras.layers.Dense(units=hidden_nodes_layer5, activation=\"relu\"))\n",
    "\n",
    "\n",
    "# Output layer\n",
    "nn.add(tf.keras.layers.Dense(units=1, activation=\"sigmoid\"))\n",
    "\n",
    "# Check the structure of the model\n",
    "nn.summary()"
   ]
  },
  {
   "cell_type": "code",
   "execution_count": 13,
   "metadata": {
    "ExecuteTime": {
     "end_time": "2023-05-20T02:29:33.841841Z",
     "start_time": "2023-05-20T02:29:33.838969Z"
    }
   },
   "outputs": [],
   "source": [
    "# # Compile the model\n",
    "# nn.compile(loss=\"binary_crossentropy\", optimizer=\"adam\", metrics=[\"accuracy\"])\n"
   ]
  },
  {
   "cell_type": "code",
   "execution_count": 14,
   "metadata": {
    "ExecuteTime": {
     "end_time": "2023-05-20T02:29:34.843178Z",
     "start_time": "2023-05-20T02:29:34.809062Z"
    }
   },
   "outputs": [
    {
     "name": "stderr",
     "output_type": "stream",
     "text": [
      "WARNING:absl:At this time, the v2.11+ optimizer `tf.keras.optimizers.Adam` runs slowly on M1/M2 Macs, please use the legacy Keras optimizer instead, located at `tf.keras.optimizers.legacy.Adam`.\n",
      "WARNING:absl:There is a known slowdown when using v2.11+ Keras optimizers on M1/M2 Macs. Falling back to the legacy Keras optimizer, i.e., `tf.keras.optimizers.legacy.Adam`.\n"
     ]
    }
   ],
   "source": [
    "from tensorflow.keras.optimizers import Adam\n",
    "\n",
    "optimizer = Adam(learning_rate=0.001)  # adjust the learning rate as needed\n",
    "\n",
    "# Compile the model\n",
    "nn.compile(loss=\"binary_crossentropy\", optimizer=optimizer, metrics=[\"accuracy\"])\n"
   ]
  },
  {
   "cell_type": "code",
   "execution_count": 15,
   "metadata": {
    "ExecuteTime": {
     "end_time": "2023-05-20T02:37:08.779436Z",
     "start_time": "2023-05-20T02:29:47.970126Z"
    }
   },
   "outputs": [
    {
     "name": "stdout",
     "output_type": "stream",
     "text": [
      "Epoch 1/100\n"
     ]
    },
    {
     "name": "stderr",
     "output_type": "stream",
     "text": [
      "2023-05-19 19:29:48.026557: W tensorflow/tsl/platform/profile_utils/cpu_utils.cc:128] Failed to get CPU frequency: 0 Hz\n"
     ]
    },
    {
     "name": "stdout",
     "output_type": "stream",
     "text": [
      "804/804 [==============================] - 5s 5ms/step - loss: 0.5814 - accuracy: 0.7173\n",
      "Epoch 2/100\n",
      "804/804 [==============================] - 4s 5ms/step - loss: 0.5720 - accuracy: 0.7211\n",
      "Epoch 3/100\n",
      "804/804 [==============================] - 4s 5ms/step - loss: 0.5703 - accuracy: 0.7220\n",
      "Epoch 4/100\n",
      "804/804 [==============================] - 4s 5ms/step - loss: 0.5694 - accuracy: 0.7227\n",
      "Epoch 5/100\n",
      "804/804 [==============================] - 4s 6ms/step - loss: 0.5689 - accuracy: 0.7230\n",
      "Epoch 6/100\n",
      "804/804 [==============================] - 5s 6ms/step - loss: 0.5689 - accuracy: 0.7229\n",
      "Epoch 7/100\n",
      "804/804 [==============================] - 4s 5ms/step - loss: 0.5678 - accuracy: 0.7239\n",
      "Epoch 8/100\n",
      "804/804 [==============================] - 4s 5ms/step - loss: 0.5678 - accuracy: 0.7238\n",
      "Epoch 9/100\n",
      "804/804 [==============================] - 4s 5ms/step - loss: 0.5678 - accuracy: 0.7237\n",
      "Epoch 10/100\n",
      "804/804 [==============================] - 4s 5ms/step - loss: 0.5673 - accuracy: 0.7243\n",
      "Epoch 11/100\n",
      "804/804 [==============================] - 4s 5ms/step - loss: 0.5668 - accuracy: 0.7238\n",
      "Epoch 12/100\n",
      "804/804 [==============================] - 4s 5ms/step - loss: 0.5669 - accuracy: 0.7242\n",
      "Epoch 13/100\n",
      "804/804 [==============================] - 5s 6ms/step - loss: 0.5664 - accuracy: 0.7241\n",
      "Epoch 14/100\n",
      "804/804 [==============================] - 5s 6ms/step - loss: 0.5662 - accuracy: 0.7241\n",
      "Epoch 15/100\n",
      "804/804 [==============================] - 5s 6ms/step - loss: 0.5660 - accuracy: 0.7240\n",
      "Epoch 16/100\n",
      "804/804 [==============================] - 5s 6ms/step - loss: 0.5654 - accuracy: 0.7245\n",
      "Epoch 17/100\n",
      "804/804 [==============================] - 5s 6ms/step - loss: 0.5655 - accuracy: 0.7253\n",
      "Epoch 18/100\n",
      "804/804 [==============================] - 5s 6ms/step - loss: 0.5654 - accuracy: 0.7249\n",
      "Epoch 19/100\n",
      "804/804 [==============================] - 5s 6ms/step - loss: 0.5649 - accuracy: 0.7250\n",
      "Epoch 20/100\n",
      "804/804 [==============================] - 4s 6ms/step - loss: 0.5646 - accuracy: 0.7252\n",
      "Epoch 21/100\n",
      "804/804 [==============================] - 5s 6ms/step - loss: 0.5645 - accuracy: 0.7252\n",
      "Epoch 22/100\n",
      "804/804 [==============================] - 4s 6ms/step - loss: 0.5646 - accuracy: 0.7252\n",
      "Epoch 23/100\n",
      "804/804 [==============================] - 5s 6ms/step - loss: 0.5643 - accuracy: 0.7259\n",
      "Epoch 24/100\n",
      "804/804 [==============================] - 4s 6ms/step - loss: 0.5638 - accuracy: 0.7259\n",
      "Epoch 25/100\n",
      "804/804 [==============================] - 5s 6ms/step - loss: 0.5636 - accuracy: 0.7259\n",
      "Epoch 26/100\n",
      "804/804 [==============================] - 5s 6ms/step - loss: 0.5635 - accuracy: 0.7263\n",
      "Epoch 27/100\n",
      "804/804 [==============================] - 5s 6ms/step - loss: 0.5633 - accuracy: 0.7266\n",
      "Epoch 28/100\n",
      "804/804 [==============================] - 5s 6ms/step - loss: 0.5631 - accuracy: 0.7262\n",
      "Epoch 29/100\n",
      "804/804 [==============================] - 4s 6ms/step - loss: 0.5629 - accuracy: 0.7268\n",
      "Epoch 30/100\n",
      "804/804 [==============================] - 4s 5ms/step - loss: 0.5629 - accuracy: 0.7272\n",
      "Epoch 31/100\n",
      "804/804 [==============================] - 4s 6ms/step - loss: 0.5629 - accuracy: 0.7269\n",
      "Epoch 32/100\n",
      "804/804 [==============================] - 5s 6ms/step - loss: 0.5622 - accuracy: 0.7270\n",
      "Epoch 33/100\n",
      "804/804 [==============================] - 4s 5ms/step - loss: 0.5627 - accuracy: 0.7267\n",
      "Epoch 34/100\n",
      "804/804 [==============================] - 4s 6ms/step - loss: 0.5625 - accuracy: 0.7269\n",
      "Epoch 35/100\n",
      "804/804 [==============================] - 4s 6ms/step - loss: 0.5624 - accuracy: 0.7266\n",
      "Epoch 36/100\n",
      "804/804 [==============================] - 4s 5ms/step - loss: 0.5626 - accuracy: 0.7273\n",
      "Epoch 37/100\n",
      "804/804 [==============================] - 4s 6ms/step - loss: 0.5623 - accuracy: 0.7275\n",
      "Epoch 38/100\n",
      "804/804 [==============================] - 4s 6ms/step - loss: 0.5625 - accuracy: 0.7272\n",
      "Epoch 39/100\n",
      "804/804 [==============================] - 4s 6ms/step - loss: 0.5618 - accuracy: 0.7269\n",
      "Epoch 40/100\n",
      "804/804 [==============================] - 4s 6ms/step - loss: 0.5620 - accuracy: 0.7268\n",
      "Epoch 41/100\n",
      "804/804 [==============================] - 4s 6ms/step - loss: 0.5624 - accuracy: 0.7275\n",
      "Epoch 42/100\n",
      "804/804 [==============================] - 4s 6ms/step - loss: 0.5621 - accuracy: 0.7267\n",
      "Epoch 43/100\n",
      "804/804 [==============================] - 5s 6ms/step - loss: 0.5631 - accuracy: 0.7257\n",
      "Epoch 44/100\n",
      "804/804 [==============================] - 4s 5ms/step - loss: 0.5619 - accuracy: 0.7278\n",
      "Epoch 45/100\n",
      "804/804 [==============================] - 5s 6ms/step - loss: 0.5620 - accuracy: 0.7279\n",
      "Epoch 46/100\n",
      "804/804 [==============================] - 4s 6ms/step - loss: 0.5618 - accuracy: 0.7270\n",
      "Epoch 47/100\n",
      "804/804 [==============================] - 4s 6ms/step - loss: 0.5616 - accuracy: 0.7273\n",
      "Epoch 48/100\n",
      "804/804 [==============================] - 4s 6ms/step - loss: 0.5618 - accuracy: 0.7271\n",
      "Epoch 49/100\n",
      "804/804 [==============================] - 4s 6ms/step - loss: 0.5612 - accuracy: 0.7277\n",
      "Epoch 50/100\n",
      "804/804 [==============================] - 4s 6ms/step - loss: 0.5621 - accuracy: 0.7274\n",
      "Epoch 51/100\n",
      "804/804 [==============================] - 4s 6ms/step - loss: 0.5615 - accuracy: 0.7273\n",
      "Epoch 52/100\n",
      "804/804 [==============================] - 4s 6ms/step - loss: 0.5617 - accuracy: 0.7277\n",
      "Epoch 53/100\n",
      "804/804 [==============================] - 4s 5ms/step - loss: 0.5612 - accuracy: 0.7277\n",
      "Epoch 54/100\n",
      "804/804 [==============================] - 4s 6ms/step - loss: 0.5610 - accuracy: 0.7280\n",
      "Epoch 55/100\n",
      "804/804 [==============================] - 4s 5ms/step - loss: 0.5615 - accuracy: 0.7282\n",
      "Epoch 56/100\n",
      "804/804 [==============================] - 4s 6ms/step - loss: 0.5615 - accuracy: 0.7274\n",
      "Epoch 57/100\n",
      "804/804 [==============================] - 4s 5ms/step - loss: 0.5612 - accuracy: 0.7271\n",
      "Epoch 58/100\n",
      "804/804 [==============================] - 4s 5ms/step - loss: 0.5616 - accuracy: 0.7271\n",
      "Epoch 59/100\n",
      "804/804 [==============================] - 4s 6ms/step - loss: 0.5618 - accuracy: 0.7271\n",
      "Epoch 60/100\n",
      "804/804 [==============================] - 4s 5ms/step - loss: 0.5614 - accuracy: 0.7280\n",
      "Epoch 61/100\n",
      "804/804 [==============================] - 4s 6ms/step - loss: 0.5609 - accuracy: 0.7277\n",
      "Epoch 62/100\n",
      "804/804 [==============================] - 4s 6ms/step - loss: 0.5611 - accuracy: 0.7272\n",
      "Epoch 63/100\n",
      "804/804 [==============================] - 4s 6ms/step - loss: 0.5611 - accuracy: 0.7282\n",
      "Epoch 64/100\n",
      "804/804 [==============================] - 4s 5ms/step - loss: 0.5611 - accuracy: 0.7266\n",
      "Epoch 65/100\n",
      "804/804 [==============================] - 4s 5ms/step - loss: 0.5609 - accuracy: 0.7283\n",
      "Epoch 66/100\n",
      "804/804 [==============================] - 4s 5ms/step - loss: 0.5609 - accuracy: 0.7278\n",
      "Epoch 67/100\n",
      "804/804 [==============================] - 4s 6ms/step - loss: 0.5607 - accuracy: 0.7276\n",
      "Epoch 68/100\n",
      "804/804 [==============================] - 4s 6ms/step - loss: 0.5610 - accuracy: 0.7278\n",
      "Epoch 69/100\n",
      "804/804 [==============================] - 4s 5ms/step - loss: 0.5610 - accuracy: 0.7279\n",
      "Epoch 70/100\n",
      "804/804 [==============================] - 4s 6ms/step - loss: 0.5616 - accuracy: 0.7277\n",
      "Epoch 71/100\n",
      "804/804 [==============================] - 4s 5ms/step - loss: 0.5621 - accuracy: 0.7262\n",
      "Epoch 72/100\n",
      "804/804 [==============================] - 4s 6ms/step - loss: 0.5623 - accuracy: 0.7266\n",
      "Epoch 73/100\n",
      "804/804 [==============================] - 4s 5ms/step - loss: 0.5614 - accuracy: 0.7274\n",
      "Epoch 74/100\n",
      "804/804 [==============================] - 4s 5ms/step - loss: 0.5612 - accuracy: 0.7266\n",
      "Epoch 75/100\n",
      "804/804 [==============================] - 4s 6ms/step - loss: 0.5611 - accuracy: 0.7271\n",
      "Epoch 76/100\n",
      "804/804 [==============================] - 4s 6ms/step - loss: 0.5615 - accuracy: 0.7276\n",
      "Epoch 77/100\n",
      "804/804 [==============================] - 4s 6ms/step - loss: 0.5609 - accuracy: 0.7279\n",
      "Epoch 78/100\n",
      "804/804 [==============================] - 4s 6ms/step - loss: 0.5607 - accuracy: 0.7279\n",
      "Epoch 79/100\n",
      "804/804 [==============================] - 4s 5ms/step - loss: 0.5609 - accuracy: 0.7278\n",
      "Epoch 80/100\n",
      "804/804 [==============================] - 4s 6ms/step - loss: 0.5608 - accuracy: 0.7279\n",
      "Epoch 81/100\n"
     ]
    },
    {
     "name": "stdout",
     "output_type": "stream",
     "text": [
      "804/804 [==============================] - 4s 5ms/step - loss: 0.5611 - accuracy: 0.7274\n",
      "Epoch 82/100\n",
      "804/804 [==============================] - 4s 6ms/step - loss: 0.5610 - accuracy: 0.7280\n",
      "Epoch 83/100\n",
      "804/804 [==============================] - 4s 6ms/step - loss: 0.5609 - accuracy: 0.7273\n",
      "Epoch 84/100\n",
      "804/804 [==============================] - 4s 6ms/step - loss: 0.5601 - accuracy: 0.7282\n",
      "Epoch 85/100\n",
      "804/804 [==============================] - 4s 5ms/step - loss: 0.5604 - accuracy: 0.7285\n",
      "Epoch 86/100\n",
      "804/804 [==============================] - 4s 5ms/step - loss: 0.5611 - accuracy: 0.7276\n",
      "Epoch 87/100\n",
      "804/804 [==============================] - 4s 5ms/step - loss: 0.5604 - accuracy: 0.7290\n",
      "Epoch 88/100\n",
      "804/804 [==============================] - 4s 5ms/step - loss: 0.5607 - accuracy: 0.7278\n",
      "Epoch 89/100\n",
      "804/804 [==============================] - 4s 5ms/step - loss: 0.5606 - accuracy: 0.7283\n",
      "Epoch 90/100\n",
      "804/804 [==============================] - 4s 5ms/step - loss: 0.5604 - accuracy: 0.7280\n",
      "Epoch 91/100\n",
      "804/804 [==============================] - 4s 5ms/step - loss: 0.5605 - accuracy: 0.7288\n",
      "Epoch 92/100\n",
      "804/804 [==============================] - 4s 5ms/step - loss: 0.5602 - accuracy: 0.7286\n",
      "Epoch 93/100\n",
      "804/804 [==============================] - 4s 5ms/step - loss: 0.5601 - accuracy: 0.7285\n",
      "Epoch 94/100\n",
      "804/804 [==============================] - 4s 5ms/step - loss: 0.5604 - accuracy: 0.7280\n",
      "Epoch 95/100\n",
      "804/804 [==============================] - 4s 5ms/step - loss: 0.5606 - accuracy: 0.7278\n",
      "Epoch 96/100\n",
      "804/804 [==============================] - 4s 5ms/step - loss: 0.5603 - accuracy: 0.7285\n",
      "Epoch 97/100\n",
      "804/804 [==============================] - 4s 5ms/step - loss: 0.5606 - accuracy: 0.7281\n",
      "Epoch 98/100\n",
      "804/804 [==============================] - 4s 5ms/step - loss: 0.5606 - accuracy: 0.7282\n",
      "Epoch 99/100\n",
      "804/804 [==============================] - 4s 5ms/step - loss: 0.5603 - accuracy: 0.7286\n",
      "Epoch 100/100\n",
      "804/804 [==============================] - 4s 5ms/step - loss: 0.5603 - accuracy: 0.7285\n"
     ]
    }
   ],
   "source": [
    "# Train the model\n",
    "fit_model = nn.fit(X_train_scaled,y_train,epochs=100)\n"
   ]
  },
  {
   "cell_type": "code",
   "execution_count": 16,
   "metadata": {
    "ExecuteTime": {
     "end_time": "2023-05-20T02:37:11.226205Z",
     "start_time": "2023-05-20T02:37:10.318555Z"
    }
   },
   "outputs": [
    {
     "name": "stdout",
     "output_type": "stream",
     "text": [
      "268/268 - 1s - loss: 0.5675 - accuracy: 0.7273 - 867ms/epoch - 3ms/step\n",
      "Loss: 0.5675086379051208, Accuracy: 0.7273469567298889\n"
     ]
    }
   ],
   "source": [
    "# Evaluate the model using the test data\n",
    "model_loss, model_accuracy = nn.evaluate(X_test_scaled,y_test,verbose=2)\n",
    "print(f\"Loss: {model_loss}, Accuracy: {model_accuracy}\")"
   ]
  },
  {
   "cell_type": "code",
   "execution_count": null,
   "metadata": {
    "ExecuteTime": {
     "end_time": "2023-05-17T22:06:37.103503Z",
     "start_time": "2023-05-17T22:06:36.788518Z"
    }
   },
   "outputs": [],
   "source": [
    "# Save the model\n",
    "nn.save(\"charity_learning_vF6\")\n"
   ]
  },
  {
   "cell_type": "code",
   "execution_count": null,
   "metadata": {},
   "outputs": [],
   "source": []
  }
 ],
 "metadata": {
  "kernelspec": {
   "display_name": "neuralpython",
   "language": "python",
   "name": "neuralpython"
  },
  "language_info": {
   "codemirror_mode": {
    "name": "ipython",
    "version": 3
   },
   "file_extension": ".py",
   "mimetype": "text/x-python",
   "name": "python",
   "nbconvert_exporter": "python",
   "pygments_lexer": "ipython3",
   "version": "3.10.9"
  },
  "vscode": {
   "interpreter": {
    "hash": "31f2aee4e71d21fbe5cf8b01ff0e069b9275f58929596ceb00d14d90e3e16cd6"
   }
  }
 },
 "nbformat": 4,
 "nbformat_minor": 4
}
